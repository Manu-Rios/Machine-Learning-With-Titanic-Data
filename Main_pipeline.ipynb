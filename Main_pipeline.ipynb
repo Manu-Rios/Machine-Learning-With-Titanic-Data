{
 "cells": [
  {
   "cell_type": "code",
   "execution_count": 1,
   "metadata": {},
   "outputs": [],
   "source": [
    "import pandas as pd\n",
    "#Load files\n",
    "\n",
    "X_full = pd.read_csv(\"/home/manu/Documents/Data Science/Projects/Titanic/train.csv\", index_col='PassengerId')\n",
    "X_test_full = pd.read_csv(\"/home/manu/Documents/Data Science/Projects/Titanic/test.csv\", index_col='PassengerId')"
   ]
  },
  {
   "cell_type": "code",
   "execution_count": 2,
   "metadata": {},
   "outputs": [],
   "source": [
    "from sklearn.model_selection import train_test_split\n",
    "#Prepare DataFrames\n",
    "\n",
    "# Remove rows with missing target, separate target from predictors\n",
    "X_full.dropna(axis=0, subset=['Survived'], inplace=True)\n",
    "y = X_full.Survived\n",
    "X_full.drop(['Survived'], axis=1, inplace=True)\n",
    "\n",
    "# Break off validation set from training data\n",
    "X_train_full, X_valid_full, y_train, y_valid = train_test_split(X_full, y, \n",
    "                                                                train_size=0.8, test_size=0.2,\n",
    "                                                                random_state=0)\n",
    "\n",
    "# \"Cardinality\" means the number of unique values in a column\n",
    "# Select categorical columns with relatively low cardinality (convenient but arbitrary)\n",
    "categorical_cols = [cname for cname in X_train_full.columns if\n",
    "                    X_train_full[cname].nunique() < 10 and \n",
    "                    X_train_full[cname].dtype == \"object\"]\n",
    "\n",
    "# Select numerical columns\n",
    "numerical_cols = [cname for cname in X_train_full.columns if \n",
    "                X_train_full[cname].dtype in ['int64', 'float64']]\n",
    "\n",
    "# Keep selected columns only\n",
    "my_cols = categorical_cols + numerical_cols\n",
    "X_train = X_train_full[my_cols].copy()\n",
    "X_valid = X_valid_full[my_cols].copy()\n",
    "X_test = X_test_full[my_cols].copy()"
   ]
  },
  {
   "cell_type": "code",
   "execution_count": 3,
   "metadata": {},
   "outputs": [],
   "source": [
    "#X_train.head()"
   ]
  },
  {
   "cell_type": "code",
   "execution_count": 8,
   "metadata": {},
   "outputs": [],
   "source": [
    "from sklearn.compose import ColumnTransformer\n",
    "from sklearn.pipeline import Pipeline\n",
    "from sklearn.impute import SimpleImputer\n",
    "from sklearn.preprocessing import OneHotEncoder\n",
    "from xgboost import XGBRegressor\n",
    "from sklearn.metrics import mean_absolute_error\n",
    "\n",
    "# Preprocess for numerical data\n",
    "numerical_transformer = SimpleImputer(strategy='median')\n",
    "\n",
    "# Preprocessing for categorical data\n",
    "categorical_transformer = Pipeline(steps=[\n",
    "    ('imputer', SimpleImputer(strategy='most_frequent')),\n",
    "    ('onehot', OneHotEncoder(handle_unknown='ignore'))\n",
    "])\n",
    "\n",
    "# Bundle preprocessing for numerical and categorical data\n",
    "preprocessor = ColumnTransformer(\n",
    "    transformers=[\n",
    "        ('num', numerical_transformer, numerical_cols),\n",
    "        ('cat', categorical_transformer, categorical_cols)\n",
    "    ])\n",
    "\n",
    "# Define model\n",
    "model = XGBRegressor(n_estimators=1000, learning_rate=0.1)\n",
    "\n",
    "# Bundle preprocessing and modeling code in a pipeline\n",
    "clf = Pipeline(steps=[('preprocessor', preprocessor),\n",
    "                      ('model', model)\n",
    "                     ])\n",
    "\n",
    "# Preprocessing of training data, fit model \n",
    "clf.fit(X_train, y_train)\n",
    "\n",
    "# Preprocessing of validation data, get predictions\n",
    "preds = clf.predict(X_valid)"
   ]
  },
  {
   "cell_type": "code",
   "execution_count": 9,
   "metadata": {},
   "outputs": [],
   "source": [
    "#ADECUATING RESULTS\n",
    "\"\"\"\"RF results aren't 1 or 0 but somewhere between. Each results > 0.5 must be rounded \n",
    "to 1 (survived) and <0.5 to 0 (didn't survive)\"\"\"\n",
    "\n",
    "preds = pd.Series(preds)\n",
    "preds.index = y_valid.index\n",
    "\n",
    "for i in range(preds.size):\n",
    "    if (preds.iloc[i] >= 0.5):\n",
    "        preds.iloc[i] = 1\n",
    "    else:\n",
    "        preds.iloc[i] = 0\n"
   ]
  },
  {
   "cell_type": "code",
   "execution_count": 10,
   "metadata": {},
   "outputs": [
    {
     "name": "stdout",
     "output_type": "stream",
     "text": [
      "Percentage of success predictions:  82.68156424581005 %\n"
     ]
    }
   ],
   "source": [
    "#MODEL VALIDATION: Comparing predicted data against validated data\n",
    "Comparision = (y_valid == preds)\n",
    "\n",
    "Correct_predictions = Comparision.sum()\n",
    "total_values = y_valid.shape[0]\n",
    "print(\"Percentage of success predictions: \", (Correct_predictions * 100/total_values),\"%\")\n"
   ]
  },
  {
   "cell_type": "code",
   "execution_count": 11,
   "metadata": {},
   "outputs": [
    {
     "name": "stdout",
     "output_type": "stream",
     "text": [
      "                Sex Embarked  Pclass   Age  SibSp  Parch     Fare\n",
      "PassengerId                                                      \n",
      "141          female        C       3   NaN      0      2  15.2458\n",
      "440            male        S       2  31.0      0      0  10.5000\n",
      "818            male        C       2  31.0      1      1  37.0042\n",
      "379            male        C       3  20.0      0      0   4.0125\n",
      "492            male        S       3  21.0      0      0   7.2500\n",
      "...             ...      ...     ...   ...    ...    ...      ...\n",
      "836          female        C       1  39.0      1      1  83.1583\n",
      "193          female        S       3  19.0      1      0   7.8542\n",
      "630            male        Q       3   NaN      0      0   7.7333\n",
      "560          female        S       3  36.0      1      0  17.4000\n",
      "685            male        S       2  60.0      1      1  39.0000\n",
      "\n",
      "[712 rows x 7 columns]\n"
     ]
    }
   ],
   "source": [
    "print (X_train)"
   ]
  },
  {
   "cell_type": "code",
   "execution_count": 12,
   "metadata": {},
   "outputs": [],
   "source": [
    "#Retraining model and generating predictions\n",
    "\"\"\"Retraining model with all the training data available (train + validation)\"\"\"\n",
    "\n",
    "X_train = X_full [my_cols]\n",
    "\n",
    "clf.fit(X_train, y)\n",
    "\n",
    "preds = clf.predict(X_test)\n",
    "\n",
    "#ADECUATING RESULTS\n",
    "\"\"\"\"Only for RF as results aren't 1 or 0 but somewhere between. Each results > 0.5 must be rounded \n",
    "to 1 (survived) and <0.5 to 0 (didn't survive)\"\"\"\n",
    "\n",
    "preds = pd.Series(preds)\n",
    "preds.index = X_test.index\n",
    "\n",
    "for i in range(preds.size):\n",
    "    if (preds.iloc[i] >= 0.5):\n",
    "        preds.iloc[i] = 1\n",
    "    else:\n",
    "        preds.iloc[i] = 0\n"
   ]
  },
  {
   "cell_type": "code",
   "execution_count": 13,
   "metadata": {},
   "outputs": [],
   "source": [
    "#Formating and saving result\n",
    "\n",
    "DF_preds = pd.DataFrame({'Survived':preds}, index = preds.index)\n",
    "\n",
    "\n",
    "#Changing to int as it is the valid format for the CSV in the competition\n",
    "DF_preds = DF_preds.astype(int)\n",
    "\n",
    "DF_preds.to_csv (\"/home/manu/Documents/Data Science/Projects/Titanic/result_pipeline.csv\")"
   ]
  },
  {
   "cell_type": "code",
   "execution_count": null,
   "metadata": {},
   "outputs": [],
   "source": []
  },
  {
   "cell_type": "code",
   "execution_count": null,
   "metadata": {},
   "outputs": [],
   "source": []
  }
 ],
 "metadata": {
  "kernelspec": {
   "display_name": "Python 3",
   "language": "python",
   "name": "python3"
  },
  "language_info": {
   "codemirror_mode": {
    "name": "ipython",
    "version": 3
   },
   "file_extension": ".py",
   "mimetype": "text/x-python",
   "name": "python",
   "nbconvert_exporter": "python",
   "pygments_lexer": "ipython3",
   "version": "3.8.5"
  }
 },
 "nbformat": 4,
 "nbformat_minor": 4
}
