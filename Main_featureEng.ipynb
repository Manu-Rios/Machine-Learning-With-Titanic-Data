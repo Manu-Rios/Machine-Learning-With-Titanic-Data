{
 "cells": [
  {
   "cell_type": "code",
   "execution_count": 1,
   "metadata": {},
   "outputs": [],
   "source": [
    "import pandas as pd\n",
    "\n",
    "#Load files\n",
    "X_full = pd.read_csv(\"/home/manu/Documents/Data Science/Projects/Titanic/train.csv\", index_col = \"PassengerId\")\n",
    "X_test_full = pd.read_csv(\"/home/manu/Documents/Data Science/Projects/Titanic/test.csv\", index_col = \"PassengerId\")\n"
   ]
  },
  {
   "cell_type": "markdown",
   "metadata": {},
   "source": [
    "Data analysis and feature engineering is based on Kaggle Notebook: \n",
    "https://www.kaggle.com/zlatankr/titanic-random-forest-82-78"
   ]
  },
  {
   "cell_type": "markdown",
   "metadata": {},
   "source": [
    "# General analysis"
   ]
  },
  {
   "cell_type": "code",
   "execution_count": 2,
   "metadata": {},
   "outputs": [
    {
     "name": "stdout",
     "output_type": "stream",
     "text": [
      "<class 'pandas.core.frame.DataFrame'>\n",
      "Int64Index: 891 entries, 1 to 891\n",
      "Data columns (total 11 columns):\n",
      " #   Column    Non-Null Count  Dtype  \n",
      "---  ------    --------------  -----  \n",
      " 0   Survived  891 non-null    int64  \n",
      " 1   Pclass    891 non-null    int64  \n",
      " 2   Name      891 non-null    object \n",
      " 3   Sex       891 non-null    object \n",
      " 4   Age       714 non-null    float64\n",
      " 5   SibSp     891 non-null    int64  \n",
      " 6   Parch     891 non-null    int64  \n",
      " 7   Ticket    891 non-null    object \n",
      " 8   Fare      891 non-null    float64\n",
      " 9   Cabin     204 non-null    object \n",
      " 10  Embarked  889 non-null    object \n",
      "dtypes: float64(2), int64(4), object(5)\n",
      "memory usage: 83.5+ KB\n"
     ]
    }
   ],
   "source": [
    "X_full.info()"
   ]
  },
  {
   "cell_type": "code",
   "execution_count": 3,
   "metadata": {},
   "outputs": [
    {
     "name": "stdout",
     "output_type": "stream",
     "text": [
      "<class 'pandas.core.frame.DataFrame'>\n",
      "Int64Index: 418 entries, 892 to 1309\n",
      "Data columns (total 10 columns):\n",
      " #   Column    Non-Null Count  Dtype  \n",
      "---  ------    --------------  -----  \n",
      " 0   Pclass    418 non-null    int64  \n",
      " 1   Name      418 non-null    object \n",
      " 2   Sex       418 non-null    object \n",
      " 3   Age       332 non-null    float64\n",
      " 4   SibSp     418 non-null    int64  \n",
      " 5   Parch     418 non-null    int64  \n",
      " 6   Ticket    418 non-null    object \n",
      " 7   Fare      417 non-null    float64\n",
      " 8   Cabin     91 non-null     object \n",
      " 9   Embarked  418 non-null    object \n",
      "dtypes: float64(2), int64(3), object(5)\n",
      "memory usage: 35.9+ KB\n"
     ]
    }
   ],
   "source": [
    "X_test_full.info()"
   ]
  },
  {
   "cell_type": "code",
   "execution_count": 4,
   "metadata": {},
   "outputs": [
    {
     "data": {
      "text/plain": [
       "0    549\n",
       "1    342\n",
       "Name: Survived, dtype: int64"
      ]
     },
     "execution_count": 4,
     "metadata": {},
     "output_type": "execute_result"
    }
   ],
   "source": [
    "X_full['Survived'].value_counts()"
   ]
  },
  {
   "cell_type": "code",
   "execution_count": 5,
   "metadata": {},
   "outputs": [
    {
     "data": {
      "text/plain": [
       "0.3838383838383838"
      ]
     },
     "execution_count": 5,
     "metadata": {},
     "output_type": "execute_result"
    }
   ],
   "source": [
    "X_full['Survived'].mean()"
   ]
  },
  {
   "cell_type": "code",
   "execution_count": 6,
   "metadata": {},
   "outputs": [
    {
     "data": {
      "text/html": [
       "<div>\n",
       "<style scoped>\n",
       "    .dataframe tbody tr th:only-of-type {\n",
       "        vertical-align: middle;\n",
       "    }\n",
       "\n",
       "    .dataframe tbody tr th {\n",
       "        vertical-align: top;\n",
       "    }\n",
       "\n",
       "    .dataframe thead th {\n",
       "        text-align: right;\n",
       "    }\n",
       "</style>\n",
       "<table border=\"1\" class=\"dataframe\">\n",
       "  <thead>\n",
       "    <tr style=\"text-align: right;\">\n",
       "      <th></th>\n",
       "      <th>Survived</th>\n",
       "      <th>Pclass</th>\n",
       "      <th>Name</th>\n",
       "      <th>Sex</th>\n",
       "      <th>Age</th>\n",
       "      <th>SibSp</th>\n",
       "      <th>Parch</th>\n",
       "      <th>Ticket</th>\n",
       "      <th>Fare</th>\n",
       "      <th>Cabin</th>\n",
       "      <th>Embarked</th>\n",
       "    </tr>\n",
       "    <tr>\n",
       "      <th>PassengerId</th>\n",
       "      <th></th>\n",
       "      <th></th>\n",
       "      <th></th>\n",
       "      <th></th>\n",
       "      <th></th>\n",
       "      <th></th>\n",
       "      <th></th>\n",
       "      <th></th>\n",
       "      <th></th>\n",
       "      <th></th>\n",
       "      <th></th>\n",
       "    </tr>\n",
       "  </thead>\n",
       "  <tbody>\n",
       "    <tr>\n",
       "      <th>1</th>\n",
       "      <td>0</td>\n",
       "      <td>3</td>\n",
       "      <td>Braund, Mr. Owen Harris</td>\n",
       "      <td>male</td>\n",
       "      <td>22.0</td>\n",
       "      <td>1</td>\n",
       "      <td>0</td>\n",
       "      <td>A/5 21171</td>\n",
       "      <td>7.2500</td>\n",
       "      <td>NaN</td>\n",
       "      <td>S</td>\n",
       "    </tr>\n",
       "    <tr>\n",
       "      <th>2</th>\n",
       "      <td>1</td>\n",
       "      <td>1</td>\n",
       "      <td>Cumings, Mrs. John Bradley (Florence Briggs Th...</td>\n",
       "      <td>female</td>\n",
       "      <td>38.0</td>\n",
       "      <td>1</td>\n",
       "      <td>0</td>\n",
       "      <td>PC 17599</td>\n",
       "      <td>71.2833</td>\n",
       "      <td>C85</td>\n",
       "      <td>C</td>\n",
       "    </tr>\n",
       "    <tr>\n",
       "      <th>3</th>\n",
       "      <td>1</td>\n",
       "      <td>3</td>\n",
       "      <td>Heikkinen, Miss. Laina</td>\n",
       "      <td>female</td>\n",
       "      <td>26.0</td>\n",
       "      <td>0</td>\n",
       "      <td>0</td>\n",
       "      <td>STON/O2. 3101282</td>\n",
       "      <td>7.9250</td>\n",
       "      <td>NaN</td>\n",
       "      <td>S</td>\n",
       "    </tr>\n",
       "    <tr>\n",
       "      <th>4</th>\n",
       "      <td>1</td>\n",
       "      <td>1</td>\n",
       "      <td>Futrelle, Mrs. Jacques Heath (Lily May Peel)</td>\n",
       "      <td>female</td>\n",
       "      <td>35.0</td>\n",
       "      <td>1</td>\n",
       "      <td>0</td>\n",
       "      <td>113803</td>\n",
       "      <td>53.1000</td>\n",
       "      <td>C123</td>\n",
       "      <td>S</td>\n",
       "    </tr>\n",
       "    <tr>\n",
       "      <th>5</th>\n",
       "      <td>0</td>\n",
       "      <td>3</td>\n",
       "      <td>Allen, Mr. William Henry</td>\n",
       "      <td>male</td>\n",
       "      <td>35.0</td>\n",
       "      <td>0</td>\n",
       "      <td>0</td>\n",
       "      <td>373450</td>\n",
       "      <td>8.0500</td>\n",
       "      <td>NaN</td>\n",
       "      <td>S</td>\n",
       "    </tr>\n",
       "    <tr>\n",
       "      <th>6</th>\n",
       "      <td>0</td>\n",
       "      <td>3</td>\n",
       "      <td>Moran, Mr. James</td>\n",
       "      <td>male</td>\n",
       "      <td>NaN</td>\n",
       "      <td>0</td>\n",
       "      <td>0</td>\n",
       "      <td>330877</td>\n",
       "      <td>8.4583</td>\n",
       "      <td>NaN</td>\n",
       "      <td>Q</td>\n",
       "    </tr>\n",
       "    <tr>\n",
       "      <th>7</th>\n",
       "      <td>0</td>\n",
       "      <td>1</td>\n",
       "      <td>McCarthy, Mr. Timothy J</td>\n",
       "      <td>male</td>\n",
       "      <td>54.0</td>\n",
       "      <td>0</td>\n",
       "      <td>0</td>\n",
       "      <td>17463</td>\n",
       "      <td>51.8625</td>\n",
       "      <td>E46</td>\n",
       "      <td>S</td>\n",
       "    </tr>\n",
       "    <tr>\n",
       "      <th>8</th>\n",
       "      <td>0</td>\n",
       "      <td>3</td>\n",
       "      <td>Palsson, Master. Gosta Leonard</td>\n",
       "      <td>male</td>\n",
       "      <td>2.0</td>\n",
       "      <td>3</td>\n",
       "      <td>1</td>\n",
       "      <td>349909</td>\n",
       "      <td>21.0750</td>\n",
       "      <td>NaN</td>\n",
       "      <td>S</td>\n",
       "    </tr>\n",
       "    <tr>\n",
       "      <th>9</th>\n",
       "      <td>1</td>\n",
       "      <td>3</td>\n",
       "      <td>Johnson, Mrs. Oscar W (Elisabeth Vilhelmina Berg)</td>\n",
       "      <td>female</td>\n",
       "      <td>27.0</td>\n",
       "      <td>0</td>\n",
       "      <td>2</td>\n",
       "      <td>347742</td>\n",
       "      <td>11.1333</td>\n",
       "      <td>NaN</td>\n",
       "      <td>S</td>\n",
       "    </tr>\n",
       "    <tr>\n",
       "      <th>10</th>\n",
       "      <td>1</td>\n",
       "      <td>2</td>\n",
       "      <td>Nasser, Mrs. Nicholas (Adele Achem)</td>\n",
       "      <td>female</td>\n",
       "      <td>14.0</td>\n",
       "      <td>1</td>\n",
       "      <td>0</td>\n",
       "      <td>237736</td>\n",
       "      <td>30.0708</td>\n",
       "      <td>NaN</td>\n",
       "      <td>C</td>\n",
       "    </tr>\n",
       "  </tbody>\n",
       "</table>\n",
       "</div>"
      ],
      "text/plain": [
       "             Survived  Pclass  \\\n",
       "PassengerId                     \n",
       "1                   0       3   \n",
       "2                   1       1   \n",
       "3                   1       3   \n",
       "4                   1       1   \n",
       "5                   0       3   \n",
       "6                   0       3   \n",
       "7                   0       1   \n",
       "8                   0       3   \n",
       "9                   1       3   \n",
       "10                  1       2   \n",
       "\n",
       "                                                          Name     Sex   Age  \\\n",
       "PassengerId                                                                    \n",
       "1                                      Braund, Mr. Owen Harris    male  22.0   \n",
       "2            Cumings, Mrs. John Bradley (Florence Briggs Th...  female  38.0   \n",
       "3                                       Heikkinen, Miss. Laina  female  26.0   \n",
       "4                 Futrelle, Mrs. Jacques Heath (Lily May Peel)  female  35.0   \n",
       "5                                     Allen, Mr. William Henry    male  35.0   \n",
       "6                                             Moran, Mr. James    male   NaN   \n",
       "7                                      McCarthy, Mr. Timothy J    male  54.0   \n",
       "8                               Palsson, Master. Gosta Leonard    male   2.0   \n",
       "9            Johnson, Mrs. Oscar W (Elisabeth Vilhelmina Berg)  female  27.0   \n",
       "10                         Nasser, Mrs. Nicholas (Adele Achem)  female  14.0   \n",
       "\n",
       "             SibSp  Parch            Ticket     Fare Cabin Embarked  \n",
       "PassengerId                                                          \n",
       "1                1      0         A/5 21171   7.2500   NaN        S  \n",
       "2                1      0          PC 17599  71.2833   C85        C  \n",
       "3                0      0  STON/O2. 3101282   7.9250   NaN        S  \n",
       "4                1      0            113803  53.1000  C123        S  \n",
       "5                0      0            373450   8.0500   NaN        S  \n",
       "6                0      0            330877   8.4583   NaN        Q  \n",
       "7                0      0             17463  51.8625   E46        S  \n",
       "8                3      1            349909  21.0750   NaN        S  \n",
       "9                0      2            347742  11.1333   NaN        S  \n",
       "10               1      0            237736  30.0708   NaN        C  "
      ]
     },
     "execution_count": 6,
     "metadata": {},
     "output_type": "execute_result"
    }
   ],
   "source": [
    "X_full.head(10)"
   ]
  },
  {
   "cell_type": "markdown",
   "metadata": {},
   "source": [
    "### General analysis conclusions"
   ]
  },
  {
   "cell_type": "markdown",
   "metadata": {},
   "source": [
    "1) Survival rate: 38.38% (342/549)<br>\n",
    "2) Columns with missing values in training data: Age, Cabin / in test data: Age, Fare, Cabin<br>\n",
    "3) Categorical Columns: Name, Sex, Ticket, Cabin, Embarked<br>"
   ]
  },
  {
   "cell_type": "markdown",
   "metadata": {},
   "source": [
    "# Data Analysis + feature engineering + Imputation\n",
    "\n",
    "1) Feature by feature it will be analized its impact on the target (Data Analysis)\n",
    "2) Meaningful new features will be created in case it's possible (Feature engineering)\n",
    "3) Imputation of missing values will be done in case of needed"
   ]
  },
  {
   "cell_type": "markdown",
   "metadata": {},
   "source": [
    "### Pclass"
   ]
  },
  {
   "cell_type": "code",
   "execution_count": 7,
   "metadata": {},
   "outputs": [
    {
     "data": {
      "text/plain": [
       "Pclass\n",
       "1    0.629630\n",
       "2    0.472826\n",
       "3    0.242363\n",
       "Name: Survived, dtype: float64"
      ]
     },
     "execution_count": 7,
     "metadata": {},
     "output_type": "execute_result"
    }
   ],
   "source": [
    "X_full['Survived'].groupby(X_full['Pclass']).mean()"
   ]
  },
  {
   "cell_type": "markdown",
   "metadata": {},
   "source": [
    "Pclass conclusions:\n",
    "Pclass is a strong predictor as first and second class survival rate is way above General survival rate\n",
    "and there is survival rate decrement in every class."
   ]
  },
  {
   "cell_type": "markdown",
   "metadata": {},
   "source": [
    "### Name"
   ]
  },
  {
   "cell_type": "markdown",
   "metadata": {},
   "source": [
    "From the name two new features will be created and validated as new features/predictors: Name lenght (more\n",
    "important people had longer names and more survival chances) and Name title (Title also tells about marriage/family status and people importance)"
   ]
  },
  {
   "cell_type": "code",
   "execution_count": 8,
   "metadata": {},
   "outputs": [
    {
     "data": {
      "text/html": [
       "<div>\n",
       "<style scoped>\n",
       "    .dataframe tbody tr th:only-of-type {\n",
       "        vertical-align: middle;\n",
       "    }\n",
       "\n",
       "    .dataframe tbody tr th {\n",
       "        vertical-align: top;\n",
       "    }\n",
       "\n",
       "    .dataframe thead th {\n",
       "        text-align: right;\n",
       "    }\n",
       "</style>\n",
       "<table border=\"1\" class=\"dataframe\">\n",
       "  <thead>\n",
       "    <tr style=\"text-align: right;\">\n",
       "      <th></th>\n",
       "      <th>Cases in group</th>\n",
       "      <th>Survival rate</th>\n",
       "    </tr>\n",
       "    <tr>\n",
       "      <th>Length group</th>\n",
       "      <th></th>\n",
       "      <th></th>\n",
       "    </tr>\n",
       "  </thead>\n",
       "  <tbody>\n",
       "    <tr>\n",
       "      <th>(11.999, 20.0]</th>\n",
       "      <td>243</td>\n",
       "      <td>0.230453</td>\n",
       "    </tr>\n",
       "    <tr>\n",
       "      <th>(20.0, 25.0]</th>\n",
       "      <td>215</td>\n",
       "      <td>0.325581</td>\n",
       "    </tr>\n",
       "    <tr>\n",
       "      <th>(25.0, 30.0]</th>\n",
       "      <td>211</td>\n",
       "      <td>0.364929</td>\n",
       "    </tr>\n",
       "    <tr>\n",
       "      <th>(30.0, 82.0]</th>\n",
       "      <td>222</td>\n",
       "      <td>0.626126</td>\n",
       "    </tr>\n",
       "  </tbody>\n",
       "</table>\n",
       "</div>"
      ],
      "text/plain": [
       "                Cases in group  Survival rate\n",
       "Length group                                 \n",
       "(11.999, 20.0]             243       0.230453\n",
       "(20.0, 25.0]               215       0.325581\n",
       "(25.0, 30.0]               211       0.364929\n",
       "(30.0, 82.0]               222       0.626126"
      ]
     },
     "execution_count": 8,
     "metadata": {},
     "output_type": "execute_result"
    }
   ],
   "source": [
    "#Name length\n",
    "X_full['Name_length'] = X_full['Name'].apply( lambda x: len(x))\n",
    "\n",
    "df_aux = pd.DataFrame(index = pd.qcut(X_full['Name_length'],4).unique().sort_values())\n",
    "\n",
    "df_aux.index.name = 'Length group'\n",
    "\n",
    "df_aux['Cases in group'] = X_full['Survived'].groupby(pd.qcut(X_full['Name_length'],4)).count()\n",
    "\n",
    "df_aux['Survival rate'] = X_full['Survived'].groupby(pd.qcut(X_full['Name_length'],4)).mean()\n",
    "\n",
    "df_aux"
   ]
  },
  {
   "cell_type": "markdown",
   "metadata": {},
   "source": [
    "There is a clear relation where the longer the case the highest the survival rate is proving Name_length to\n",
    "be a useful feature/predictor"
   ]
  },
  {
   "cell_type": "code",
   "execution_count": 9,
   "metadata": {},
   "outputs": [
    {
     "data": {
      "text/html": [
       "<div>\n",
       "<style scoped>\n",
       "    .dataframe tbody tr th:only-of-type {\n",
       "        vertical-align: middle;\n",
       "    }\n",
       "\n",
       "    .dataframe tbody tr th {\n",
       "        vertical-align: top;\n",
       "    }\n",
       "\n",
       "    .dataframe thead th {\n",
       "        text-align: right;\n",
       "    }\n",
       "</style>\n",
       "<table border=\"1\" class=\"dataframe\">\n",
       "  <thead>\n",
       "    <tr style=\"text-align: right;\">\n",
       "      <th></th>\n",
       "      <th>Qty of cases</th>\n",
       "      <th>Survival rate</th>\n",
       "    </tr>\n",
       "    <tr>\n",
       "      <th>Name_Tittle</th>\n",
       "      <th></th>\n",
       "      <th></th>\n",
       "    </tr>\n",
       "  </thead>\n",
       "  <tbody>\n",
       "    <tr>\n",
       "      <th>Ms</th>\n",
       "      <td>1</td>\n",
       "      <td>1.000000</td>\n",
       "    </tr>\n",
       "    <tr>\n",
       "      <th>Mlle</th>\n",
       "      <td>2</td>\n",
       "      <td>1.000000</td>\n",
       "    </tr>\n",
       "    <tr>\n",
       "      <th>the Countess</th>\n",
       "      <td>1</td>\n",
       "      <td>1.000000</td>\n",
       "    </tr>\n",
       "    <tr>\n",
       "      <th>Mme</th>\n",
       "      <td>1</td>\n",
       "      <td>1.000000</td>\n",
       "    </tr>\n",
       "    <tr>\n",
       "      <th>Lady</th>\n",
       "      <td>1</td>\n",
       "      <td>1.000000</td>\n",
       "    </tr>\n",
       "    <tr>\n",
       "      <th>Sir</th>\n",
       "      <td>1</td>\n",
       "      <td>1.000000</td>\n",
       "    </tr>\n",
       "    <tr>\n",
       "      <th>Mrs</th>\n",
       "      <td>125</td>\n",
       "      <td>0.792000</td>\n",
       "    </tr>\n",
       "    <tr>\n",
       "      <th>Miss</th>\n",
       "      <td>182</td>\n",
       "      <td>0.697802</td>\n",
       "    </tr>\n",
       "    <tr>\n",
       "      <th>Master</th>\n",
       "      <td>40</td>\n",
       "      <td>0.575000</td>\n",
       "    </tr>\n",
       "    <tr>\n",
       "      <th>Col</th>\n",
       "      <td>2</td>\n",
       "      <td>0.500000</td>\n",
       "    </tr>\n",
       "    <tr>\n",
       "      <th>Major</th>\n",
       "      <td>2</td>\n",
       "      <td>0.500000</td>\n",
       "    </tr>\n",
       "    <tr>\n",
       "      <th>Dr</th>\n",
       "      <td>7</td>\n",
       "      <td>0.428571</td>\n",
       "    </tr>\n",
       "    <tr>\n",
       "      <th>Mr</th>\n",
       "      <td>517</td>\n",
       "      <td>0.156673</td>\n",
       "    </tr>\n",
       "    <tr>\n",
       "      <th>Rev</th>\n",
       "      <td>6</td>\n",
       "      <td>0.000000</td>\n",
       "    </tr>\n",
       "    <tr>\n",
       "      <th>Capt</th>\n",
       "      <td>1</td>\n",
       "      <td>0.000000</td>\n",
       "    </tr>\n",
       "    <tr>\n",
       "      <th>Don</th>\n",
       "      <td>1</td>\n",
       "      <td>0.000000</td>\n",
       "    </tr>\n",
       "    <tr>\n",
       "      <th>Jonkheer</th>\n",
       "      <td>1</td>\n",
       "      <td>0.000000</td>\n",
       "    </tr>\n",
       "  </tbody>\n",
       "</table>\n",
       "</div>"
      ],
      "text/plain": [
       "              Qty of cases  Survival rate\n",
       "Name_Tittle                              \n",
       "Ms                       1       1.000000\n",
       "Mlle                     2       1.000000\n",
       "the Countess             1       1.000000\n",
       "Mme                      1       1.000000\n",
       "Lady                     1       1.000000\n",
       "Sir                      1       1.000000\n",
       "Mrs                    125       0.792000\n",
       "Miss                   182       0.697802\n",
       "Master                  40       0.575000\n",
       "Col                      2       0.500000\n",
       "Major                    2       0.500000\n",
       "Dr                       7       0.428571\n",
       "Mr                     517       0.156673\n",
       "Rev                      6       0.000000\n",
       "Capt                     1       0.000000\n",
       "Don                      1       0.000000\n",
       "Jonkheer                 1       0.000000"
      ]
     },
     "execution_count": 9,
     "metadata": {},
     "output_type": "execute_result"
    }
   ],
   "source": [
    "#Name title\n",
    "\n",
    "X_full['Name_title'] = X_full['Name'].apply(lambda x: x.split(',')[1].split('.')[0].strip())\n",
    "\n",
    "df_aux = pd.DataFrame(index = X_full['Name_title'].unique())\n",
    "\n",
    "df_aux.index.name = \"Name_Tittle\"\n",
    "\n",
    "df_aux['Qty of cases'] = X_full['Survived'].groupby(X_full['Name_title']).count()\n",
    "\n",
    "df_aux ['Survival rate'] = X_full['Survived'].groupby(X_full['Name_title']).mean()\n",
    "\n",
    "df_aux.sort_values(by = ['Survival rate'],ascending=False, inplace=True)\n",
    "\n",
    "df_aux"
   ]
  },
  {
   "cell_type": "markdown",
   "metadata": {},
   "source": [
    "It can be noticed a clear high survival rate for tittles with a lot of cases like 'Mrs' or 'Miss' as low\n",
    "survival rates for titles like 'Mr' therefore Name title is proving to be a good predictor.\n",
    "Titles with less than 5 cases could be grouped in an 'Other' group and a flag column 'Other title' could be added.\n",
    "For the moment the 'other' approach won't be taken"
   ]
  },
  {
   "cell_type": "code",
   "execution_count": 10,
   "metadata": {},
   "outputs": [],
   "source": [
    "def Name_Engineering (train, test):\n",
    "    \"\"\"Name columns will be used to create two new columns:\n",
    "    1) Name_length: The length of the name\n",
    "    2) Name_title: The title of the name\n",
    "\n",
    "    Original Name column will be dropped\n",
    "    Transformation will be done in both dataframes (train and test)\n",
    "\n",
    "    >>> Name: 'Braund, Mr. Owen Harris' --> Name_length: 23 , Name_title: 'Mr'\"\"\"\n",
    "\n",
    "    for i in [train, test]:\n",
    "        i['Name_length'] = i['Name'].apply( lambda x: len(x))\n",
    "        i['Name_title'] = i['Name'].apply(lambda x: x.split(',')[1].split('.')[0].strip())\n",
    "        i.drop(labels=['Name'],axis=1, inplace=True)\n",
    "    return train, test"
   ]
  },
  {
   "cell_type": "markdown",
   "metadata": {},
   "source": [
    "### Sex"
   ]
  },
  {
   "cell_type": "code",
   "execution_count": 11,
   "metadata": {},
   "outputs": [
    {
     "data": {
      "text/plain": [
       "Sex\n",
       "female    0.742038\n",
       "male      0.188908\n",
       "Name: Survived, dtype: float64"
      ]
     },
     "execution_count": 11,
     "metadata": {},
     "output_type": "execute_result"
    }
   ],
   "source": [
    "X_full['Survived'].groupby(X_full['Sex']).mean()"
   ]
  },
  {
   "cell_type": "markdown",
   "metadata": {},
   "source": [
    "There is a high survival rate for females over males which makes Sex a good predictor as it is"
   ]
  },
  {
   "cell_type": "markdown",
   "metadata": {},
   "source": [
    "### Age"
   ]
  },
  {
   "cell_type": "code",
   "execution_count": 12,
   "metadata": {},
   "outputs": [
    {
     "data": {
      "text/plain": [
       "Age\n",
       "(0.419, 19.0]    0.481707\n",
       "(19.0, 25.0]     0.328467\n",
       "(25.0, 31.8]     0.393701\n",
       "(31.8, 41.0]     0.437500\n",
       "(41.0, 80.0]     0.373239\n",
       "Name: Survived, dtype: float64"
      ]
     },
     "execution_count": 12,
     "metadata": {},
     "output_type": "execute_result"
    }
   ],
   "source": [
    "X_full['Survived'].groupby(pd.qcut(X_full['Age'], 5)).mean()"
   ]
  },
  {
   "cell_type": "markdown",
   "metadata": {},
   "source": [
    "There isn't a clear trend of survival rate per age as I would expect. I will combine the age with other\n",
    "features like Sex, SibSp and Parch to see if there is a relationship at a more detailed level"
   ]
  },
  {
   "cell_type": "code",
   "execution_count": 13,
   "metadata": {},
   "outputs": [
    {
     "name": "stdout",
     "output_type": "stream",
     "text": [
      "Males survival rate\n",
      " Age\n",
      "(0.419, 20.0]    0.284314\n",
      "(20.0, 26.0]     0.122222\n",
      "(26.0, 32.0]     0.258824\n",
      "(32.0, 42.0]     0.181818\n",
      "(42.0, 80.0]     0.170455\n",
      "Name: Survived, dtype: float64\n",
      "Females survival rate \n",
      " Age\n",
      "(0.749, 17.0]    0.690909\n",
      "(17.0, 24.0]     0.758065\n",
      "(24.0, 30.0]     0.707317\n",
      "(30.0, 40.0]     0.836364\n",
      "(40.0, 63.0]     0.770833\n",
      "Name: Survived, dtype: float64\n"
     ]
    }
   ],
   "source": [
    "#Checking Age survival rate per sex\n",
    "DF_males = X_full[X_full['Sex'] == 'male']\n",
    "\n",
    "print('Males survival rate\\n',DF_males['Survived'].groupby(pd.qcut(DF_males['Age'],5)).mean())\n",
    "\n",
    "DF_females = X_full[X_full['Sex'] == 'female']\n",
    "\n",
    "print('Females survival rate \\n', DF_females['Survived'].groupby(pd.qcut(DF_females['Age'],5)).mean())"
   ]
  },
  {
   "cell_type": "markdown",
   "metadata": {},
   "source": [
    "Still no clear relation between age - Sex - Survival rate is noticed. Will be kept as it might be useful in\n",
    "deeper levels in relations with other features but a side test will be performed dropping it to see how \n",
    "it performs."
   ]
  },
  {
   "cell_type": "code",
   "execution_count": 14,
   "metadata": {},
   "outputs": [],
   "source": [
    "#Age missing values imputing\n",
    "def Age_impute (train, test):\n",
    "    \"\"\"Impute the missing values using the median value of the respective 'Pclass' and 'Sex' in train. \n",
    "    Also a flag column will be added to mark those rows that were imputed.\n",
    "    Grouping categories for train and test must be the same and exists in both\n",
    "    Example >>> if the mean age for 'male' and Pclass '2' is 26, then a male/Pclass '2' with Nan age will be \n",
    "    imputed with 26 and 1 in the flag colum\"\"\"\n",
    "    #Get the median for the Age by Pclass and Sex\n",
    "    DF_grouped = train.groupby(['Pclass', 'Sex'])['Age'].median()\n",
    "    for i in [train, test]:\n",
    "        #Add null flag column\n",
    "        i['Age_Null_Flag'] = i['Age'].apply(lambda x: 1 if pd.isnull(x) else 0)\n",
    "        #Impute train's median age values by Pclass and Sex to train and test missing values\n",
    "        #x.name : brings the specific row number\n",
    "        #i.loc[x.name]['Pclass'] : Brings the Pclass value for the specific row\n",
    "        #i.loc[x.name]['Sex'] : Brings the sex value for the specific row\n",
    "        #DF_grouped.loc [][] : Brings the median of an specific group ([Pclass][Sex])\n",
    "        i['Age'] = i.apply(lambda x: (DF_grouped.loc[i.loc[x.name]['Pclass']][i.loc[x.name]['Sex']]) if pd.isnull(x['Age']) else x['Age'], axis=1)\n",
    "    return train, test"
   ]
  },
  {
   "cell_type": "markdown",
   "metadata": {},
   "source": [
    "### SibSp"
   ]
  },
  {
   "cell_type": "code",
   "execution_count": 15,
   "metadata": {},
   "outputs": [
    {
     "data": {
      "text/html": [
       "<div>\n",
       "<style scoped>\n",
       "    .dataframe tbody tr th:only-of-type {\n",
       "        vertical-align: middle;\n",
       "    }\n",
       "\n",
       "    .dataframe tbody tr th {\n",
       "        vertical-align: top;\n",
       "    }\n",
       "\n",
       "    .dataframe thead th {\n",
       "        text-align: right;\n",
       "    }\n",
       "</style>\n",
       "<table border=\"1\" class=\"dataframe\">\n",
       "  <thead>\n",
       "    <tr style=\"text-align: right;\">\n",
       "      <th></th>\n",
       "      <th>Qty</th>\n",
       "      <th>Survival rate</th>\n",
       "    </tr>\n",
       "    <tr>\n",
       "      <th>SibSp</th>\n",
       "      <th></th>\n",
       "      <th></th>\n",
       "    </tr>\n",
       "  </thead>\n",
       "  <tbody>\n",
       "    <tr>\n",
       "      <th>0</th>\n",
       "      <td>608</td>\n",
       "      <td>0.345395</td>\n",
       "    </tr>\n",
       "    <tr>\n",
       "      <th>1</th>\n",
       "      <td>209</td>\n",
       "      <td>0.535885</td>\n",
       "    </tr>\n",
       "    <tr>\n",
       "      <th>2</th>\n",
       "      <td>28</td>\n",
       "      <td>0.464286</td>\n",
       "    </tr>\n",
       "    <tr>\n",
       "      <th>3</th>\n",
       "      <td>16</td>\n",
       "      <td>0.250000</td>\n",
       "    </tr>\n",
       "    <tr>\n",
       "      <th>4</th>\n",
       "      <td>18</td>\n",
       "      <td>0.166667</td>\n",
       "    </tr>\n",
       "    <tr>\n",
       "      <th>5</th>\n",
       "      <td>5</td>\n",
       "      <td>0.000000</td>\n",
       "    </tr>\n",
       "    <tr>\n",
       "      <th>8</th>\n",
       "      <td>7</td>\n",
       "      <td>0.000000</td>\n",
       "    </tr>\n",
       "  </tbody>\n",
       "</table>\n",
       "</div>"
      ],
      "text/plain": [
       "       Qty  Survival rate\n",
       "SibSp                    \n",
       "0      608       0.345395\n",
       "1      209       0.535885\n",
       "2       28       0.464286\n",
       "3       16       0.250000\n",
       "4       18       0.166667\n",
       "5        5       0.000000\n",
       "8        7       0.000000"
      ]
     },
     "execution_count": 15,
     "metadata": {},
     "output_type": "execute_result"
    }
   ],
   "source": [
    "#SibSp\n",
    "\n",
    "DF_aux = pd.DataFrame (index = X_full['SibSp'].unique().sort())\n",
    "DF_aux.index.name = 'SibSp'\n",
    "DF_aux['Qty'] = X_full.groupby(['SibSp'])['Survived'].count()\n",
    "DF_aux['Survival rate'] = X_full.groupby(['SibSp'])['Survived'].mean()\n",
    "DF_aux"
   ]
  },
  {
   "cell_type": "markdown",
   "metadata": {},
   "source": [
    "### Parch"
   ]
  },
  {
   "cell_type": "code",
   "execution_count": 16,
   "metadata": {},
   "outputs": [
    {
     "data": {
      "text/html": [
       "<div>\n",
       "<style scoped>\n",
       "    .dataframe tbody tr th:only-of-type {\n",
       "        vertical-align: middle;\n",
       "    }\n",
       "\n",
       "    .dataframe tbody tr th {\n",
       "        vertical-align: top;\n",
       "    }\n",
       "\n",
       "    .dataframe thead th {\n",
       "        text-align: right;\n",
       "    }\n",
       "</style>\n",
       "<table border=\"1\" class=\"dataframe\">\n",
       "  <thead>\n",
       "    <tr style=\"text-align: right;\">\n",
       "      <th></th>\n",
       "      <th>Qty</th>\n",
       "      <th>Survival rate</th>\n",
       "    </tr>\n",
       "    <tr>\n",
       "      <th>Parch</th>\n",
       "      <th></th>\n",
       "      <th></th>\n",
       "    </tr>\n",
       "  </thead>\n",
       "  <tbody>\n",
       "    <tr>\n",
       "      <th>0</th>\n",
       "      <td>678</td>\n",
       "      <td>0.343658</td>\n",
       "    </tr>\n",
       "    <tr>\n",
       "      <th>1</th>\n",
       "      <td>118</td>\n",
       "      <td>0.550847</td>\n",
       "    </tr>\n",
       "    <tr>\n",
       "      <th>2</th>\n",
       "      <td>80</td>\n",
       "      <td>0.500000</td>\n",
       "    </tr>\n",
       "    <tr>\n",
       "      <th>3</th>\n",
       "      <td>5</td>\n",
       "      <td>0.600000</td>\n",
       "    </tr>\n",
       "    <tr>\n",
       "      <th>4</th>\n",
       "      <td>4</td>\n",
       "      <td>0.000000</td>\n",
       "    </tr>\n",
       "    <tr>\n",
       "      <th>5</th>\n",
       "      <td>5</td>\n",
       "      <td>0.200000</td>\n",
       "    </tr>\n",
       "    <tr>\n",
       "      <th>6</th>\n",
       "      <td>1</td>\n",
       "      <td>0.000000</td>\n",
       "    </tr>\n",
       "  </tbody>\n",
       "</table>\n",
       "</div>"
      ],
      "text/plain": [
       "       Qty  Survival rate\n",
       "Parch                    \n",
       "0      678       0.343658\n",
       "1      118       0.550847\n",
       "2       80       0.500000\n",
       "3        5       0.600000\n",
       "4        4       0.000000\n",
       "5        5       0.200000\n",
       "6        1       0.000000"
      ]
     },
     "execution_count": 16,
     "metadata": {},
     "output_type": "execute_result"
    }
   ],
   "source": [
    "DF_aux = pd.DataFrame (index = X_full['Parch'].unique().sort())\n",
    "DF_aux.index.name = 'Parch'\n",
    "DF_aux['Qty'] = X_full.groupby(['Parch'])['Survived'].count()\n",
    "DF_aux['Survival rate'] = X_full.groupby(['Parch'])['Survived'].mean()\n",
    "DF_aux"
   ]
  },
  {
   "cell_type": "markdown",
   "metadata": {},
   "source": [
    "Those with 1 or 2 Parent/children or Siblins/Spouses have a higher survival rate than those with higher number.\n",
    "These features will be left as they are to be used in the model"
   ]
  },
  {
   "cell_type": "markdown",
   "metadata": {},
   "source": [
    "### Ticket"
   ]
  },
  {
   "cell_type": "markdown",
   "metadata": {},
   "source": [
    "Two features will be created from the ticket:\n",
    "1) Ticket Length: Ticket length might indicate the type of ticket therefore the position of the passanger and how \n",
    "                  close to the ship surface it was which might have impacted survival rate\n",
    "2) Ticket first letter: Also might inidicate ticket type"
   ]
  },
  {
   "cell_type": "code",
   "execution_count": 17,
   "metadata": {},
   "outputs": [
    {
     "data": {
      "text/html": [
       "<div>\n",
       "<style scoped>\n",
       "    .dataframe tbody tr th:only-of-type {\n",
       "        vertical-align: middle;\n",
       "    }\n",
       "\n",
       "    .dataframe tbody tr th {\n",
       "        vertical-align: top;\n",
       "    }\n",
       "\n",
       "    .dataframe thead th {\n",
       "        text-align: right;\n",
       "    }\n",
       "</style>\n",
       "<table border=\"1\" class=\"dataframe\">\n",
       "  <thead>\n",
       "    <tr style=\"text-align: right;\">\n",
       "      <th></th>\n",
       "      <th>Qty of cases</th>\n",
       "      <th>Survival rate</th>\n",
       "    </tr>\n",
       "    <tr>\n",
       "      <th>Length</th>\n",
       "      <th></th>\n",
       "      <th></th>\n",
       "    </tr>\n",
       "  </thead>\n",
       "  <tbody>\n",
       "    <tr>\n",
       "      <th>3</th>\n",
       "      <td>2</td>\n",
       "      <td>0.000000</td>\n",
       "    </tr>\n",
       "    <tr>\n",
       "      <th>4</th>\n",
       "      <td>101</td>\n",
       "      <td>0.366337</td>\n",
       "    </tr>\n",
       "    <tr>\n",
       "      <th>5</th>\n",
       "      <td>131</td>\n",
       "      <td>0.618321</td>\n",
       "    </tr>\n",
       "    <tr>\n",
       "      <th>6</th>\n",
       "      <td>419</td>\n",
       "      <td>0.319809</td>\n",
       "    </tr>\n",
       "    <tr>\n",
       "      <th>7</th>\n",
       "      <td>27</td>\n",
       "      <td>0.296296</td>\n",
       "    </tr>\n",
       "    <tr>\n",
       "      <th>8</th>\n",
       "      <td>76</td>\n",
       "      <td>0.539474</td>\n",
       "    </tr>\n",
       "    <tr>\n",
       "      <th>9</th>\n",
       "      <td>26</td>\n",
       "      <td>0.192308</td>\n",
       "    </tr>\n",
       "    <tr>\n",
       "      <th>10</th>\n",
       "      <td>41</td>\n",
       "      <td>0.341463</td>\n",
       "    </tr>\n",
       "    <tr>\n",
       "      <th>11</th>\n",
       "      <td>8</td>\n",
       "      <td>0.250000</td>\n",
       "    </tr>\n",
       "    <tr>\n",
       "      <th>12</th>\n",
       "      <td>10</td>\n",
       "      <td>0.400000</td>\n",
       "    </tr>\n",
       "    <tr>\n",
       "      <th>13</th>\n",
       "      <td>10</td>\n",
       "      <td>0.400000</td>\n",
       "    </tr>\n",
       "    <tr>\n",
       "      <th>15</th>\n",
       "      <td>9</td>\n",
       "      <td>0.333333</td>\n",
       "    </tr>\n",
       "    <tr>\n",
       "      <th>16</th>\n",
       "      <td>11</td>\n",
       "      <td>0.272727</td>\n",
       "    </tr>\n",
       "    <tr>\n",
       "      <th>17</th>\n",
       "      <td>14</td>\n",
       "      <td>0.428571</td>\n",
       "    </tr>\n",
       "    <tr>\n",
       "      <th>18</th>\n",
       "      <td>6</td>\n",
       "      <td>0.000000</td>\n",
       "    </tr>\n",
       "  </tbody>\n",
       "</table>\n",
       "</div>"
      ],
      "text/plain": [
       "        Qty of cases  Survival rate\n",
       "Length                             \n",
       "3                  2       0.000000\n",
       "4                101       0.366337\n",
       "5                131       0.618321\n",
       "6                419       0.319809\n",
       "7                 27       0.296296\n",
       "8                 76       0.539474\n",
       "9                 26       0.192308\n",
       "10                41       0.341463\n",
       "11                 8       0.250000\n",
       "12                10       0.400000\n",
       "13                10       0.400000\n",
       "15                 9       0.333333\n",
       "16                11       0.272727\n",
       "17                14       0.428571\n",
       "18                 6       0.000000"
      ]
     },
     "execution_count": 17,
     "metadata": {},
     "output_type": "execute_result"
    }
   ],
   "source": [
    "#Ticket Length\n",
    "\n",
    "DF_aux = pd.DataFrame(index = X_full['Ticket'].apply(lambda x: len(x)).unique().sort())\n",
    "DF_aux.index.name = 'Length'\n",
    "DF_aux['Qty of cases'] = X_full.groupby(X_full['Ticket'].apply(lambda x : len(x)))['Survived'].count()\n",
    "DF_aux['Survival rate'] = X_full.groupby(X_full['Ticket'].apply(lambda x : len(x)))['Survived'].mean()\n",
    "\n",
    "DF_aux"
   ]
  },
  {
   "cell_type": "code",
   "execution_count": 18,
   "metadata": {},
   "outputs": [
    {
     "data": {
      "text/html": [
       "<div>\n",
       "<style scoped>\n",
       "    .dataframe tbody tr th:only-of-type {\n",
       "        vertical-align: middle;\n",
       "    }\n",
       "\n",
       "    .dataframe tbody tr th {\n",
       "        vertical-align: top;\n",
       "    }\n",
       "\n",
       "    .dataframe thead th {\n",
       "        text-align: right;\n",
       "    }\n",
       "</style>\n",
       "<table border=\"1\" class=\"dataframe\">\n",
       "  <thead>\n",
       "    <tr style=\"text-align: right;\">\n",
       "      <th></th>\n",
       "      <th>Qty of cases</th>\n",
       "      <th>Survival rate</th>\n",
       "    </tr>\n",
       "    <tr>\n",
       "      <th>First Letter</th>\n",
       "      <th></th>\n",
       "      <th></th>\n",
       "    </tr>\n",
       "  </thead>\n",
       "  <tbody>\n",
       "    <tr>\n",
       "      <th>1</th>\n",
       "      <td>146</td>\n",
       "      <td>0.630137</td>\n",
       "    </tr>\n",
       "    <tr>\n",
       "      <th>2</th>\n",
       "      <td>183</td>\n",
       "      <td>0.464481</td>\n",
       "    </tr>\n",
       "    <tr>\n",
       "      <th>3</th>\n",
       "      <td>301</td>\n",
       "      <td>0.239203</td>\n",
       "    </tr>\n",
       "    <tr>\n",
       "      <th>4</th>\n",
       "      <td>10</td>\n",
       "      <td>0.200000</td>\n",
       "    </tr>\n",
       "    <tr>\n",
       "      <th>5</th>\n",
       "      <td>3</td>\n",
       "      <td>0.000000</td>\n",
       "    </tr>\n",
       "    <tr>\n",
       "      <th>6</th>\n",
       "      <td>6</td>\n",
       "      <td>0.166667</td>\n",
       "    </tr>\n",
       "    <tr>\n",
       "      <th>7</th>\n",
       "      <td>9</td>\n",
       "      <td>0.111111</td>\n",
       "    </tr>\n",
       "    <tr>\n",
       "      <th>8</th>\n",
       "      <td>2</td>\n",
       "      <td>0.000000</td>\n",
       "    </tr>\n",
       "    <tr>\n",
       "      <th>9</th>\n",
       "      <td>1</td>\n",
       "      <td>1.000000</td>\n",
       "    </tr>\n",
       "    <tr>\n",
       "      <th>A</th>\n",
       "      <td>29</td>\n",
       "      <td>0.068966</td>\n",
       "    </tr>\n",
       "    <tr>\n",
       "      <th>C</th>\n",
       "      <td>47</td>\n",
       "      <td>0.340426</td>\n",
       "    </tr>\n",
       "    <tr>\n",
       "      <th>F</th>\n",
       "      <td>7</td>\n",
       "      <td>0.571429</td>\n",
       "    </tr>\n",
       "    <tr>\n",
       "      <th>L</th>\n",
       "      <td>4</td>\n",
       "      <td>0.250000</td>\n",
       "    </tr>\n",
       "    <tr>\n",
       "      <th>P</th>\n",
       "      <td>65</td>\n",
       "      <td>0.646154</td>\n",
       "    </tr>\n",
       "    <tr>\n",
       "      <th>S</th>\n",
       "      <td>65</td>\n",
       "      <td>0.323077</td>\n",
       "    </tr>\n",
       "    <tr>\n",
       "      <th>W</th>\n",
       "      <td>13</td>\n",
       "      <td>0.153846</td>\n",
       "    </tr>\n",
       "  </tbody>\n",
       "</table>\n",
       "</div>"
      ],
      "text/plain": [
       "              Qty of cases  Survival rate\n",
       "First Letter                             \n",
       "1                      146       0.630137\n",
       "2                      183       0.464481\n",
       "3                      301       0.239203\n",
       "4                       10       0.200000\n",
       "5                        3       0.000000\n",
       "6                        6       0.166667\n",
       "7                        9       0.111111\n",
       "8                        2       0.000000\n",
       "9                        1       1.000000\n",
       "A                       29       0.068966\n",
       "C                       47       0.340426\n",
       "F                        7       0.571429\n",
       "L                        4       0.250000\n",
       "P                       65       0.646154\n",
       "S                       65       0.323077\n",
       "W                       13       0.153846"
      ]
     },
     "execution_count": 18,
     "metadata": {},
     "output_type": "execute_result"
    }
   ],
   "source": [
    "#Ticket first letter\n",
    "\n",
    "DF_aux = pd.DataFrame (index = (X_full['Ticket'].apply(lambda x: x[0])).unique().sort())\n",
    "\n",
    "DF_aux.index.name = 'First Letter'\n",
    "\n",
    "DF_aux['Qty of cases'] = X_full.groupby(X_full['Ticket'].apply(lambda x: x[0]))['Survived'].count()\n",
    "\n",
    "DF_aux['Survival rate'] = X_full.groupby(X_full['Ticket'].apply(lambda x: x[0]))['Survived'].mean()\n",
    "\n",
    "DF_aux"
   ]
  },
  {
   "cell_type": "markdown",
   "metadata": {},
   "source": [
    "In both cases (length and first letter) there are certain values which have a higher or lower survival rates than \n",
    "the average population therefore there is some predictive power from these new features"
   ]
  },
  {
   "cell_type": "code",
   "execution_count": 19,
   "metadata": {},
   "outputs": [],
   "source": [
    "def Ticket_engineering (train, test):\n",
    "    \"\"\"Receives DataFrames with the ticket column, it creates the new features Ticket_length and Ticket_1Letter,\n",
    "    deletes original ticket column and returns both DataFrames\n",
    "    Ticket example: 'A/5 21171' >>> Ticket_length = 9 and Ticket_1Letter = 'A' \"\"\"\n",
    "    for i in [train, test]:\n",
    "        i['Ticket_length'] = i['Ticket'].apply(lambda x: len(x))\n",
    "        i['Ticket_1Letter'] = i['Ticket'].apply(lambda x: x[0])\n",
    "        del i['Ticket']\n",
    "    return train, test"
   ]
  },
  {
   "cell_type": "markdown",
   "metadata": {},
   "source": [
    "### Fare"
   ]
  },
  {
   "cell_type": "code",
   "execution_count": 20,
   "metadata": {},
   "outputs": [],
   "source": [
    "def Fare_imputing (train, test):\n",
    "    \"\"\"Impute the missing values using the median value of the respective 'Pclass' and 'Sex' in train. \n",
    "    Also a flag column will be added to mark those row that were imputed.\n",
    "    Grouping categories for train and test must be the same and exists in both\n",
    "    Example >>> if the mean Fare for 'male' and Pclass '2' is 13, then a male/Pclass '2' with Nan age will be \n",
    "    imputed with 13\"\"\"\n",
    "    #Get the median for the Age by Pclass and Sex\n",
    "    DF_grouped = train.groupby(['Pclass', 'Sex'])['Fare'].median()\n",
    "    for i in [train, test]:\n",
    "        #Impute train's median age values by Pclass and Sex to train and test missing values\n",
    "        #i.loc[x.name]['Pclass'] : Brings the Pclass value for the specific row\n",
    "        #i.loc[x.name]['Sex'] : Brings the sex value for the specific row\n",
    "        #DF_grouped.loc [][] : Brings the median of an specific group ([Pclass][Sex])\n",
    "        i['Fare'] = i.apply(lambda x: (DF_grouped.loc[i.loc[x.name]['Pclass']][i.loc[x.name]['Sex']]) if pd.isnull(x['Fare']) else x['Fare'], axis=1)\n",
    "    return train, test"
   ]
  },
  {
   "cell_type": "markdown",
   "metadata": {},
   "source": [
    "### Cabin"
   ]
  },
  {
   "cell_type": "code",
   "execution_count": 21,
   "metadata": {},
   "outputs": [
    {
     "name": "stdout",
     "output_type": "stream",
     "text": [
      "Null values:  687\n",
      "Total values:  891\n"
     ]
    }
   ],
   "source": [
    "print(\"Null values: \", X_full['Cabin'].isnull().sum())\n",
    "print(\"Total values: \", X_full['Cabin'].shape[0])"
   ]
  },
  {
   "cell_type": "code",
   "execution_count": 22,
   "metadata": {},
   "outputs": [
    {
     "name": "stdout",
     "output_type": "stream",
     "text": [
      "Cabin Nan survival rate:  0.3\n",
      "Cabin Not Nan survival rate:  0.67\n"
     ]
    }
   ],
   "source": [
    "print(\"Cabin Nan survival rate: \",round(X_full[X_full['Cabin'].isnull()]['Survived'].mean(),2))\n",
    "\n",
    "print(\"Cabin Not Nan survival rate: \", round(X_full[X_full['Cabin'].notnull()]['Survived'].mean(),2))"
   ]
  },
  {
   "cell_type": "markdown",
   "metadata": {},
   "source": [
    "Survival rate for those passangers with Cabin number is much higher with those without it so may be those cabins\n",
    "in lower levels hadn't numbers and the survival chance in lower levels was lower making the cabin a possible useful feature.<br> <br>\n",
    "\n",
    "Two features will be created: <br>\n",
    "1) Cabin first letter<br>\n",
    "2) Cabin Number (With number intervals or 0 for those without data)"
   ]
  },
  {
   "cell_type": "code",
   "execution_count": 23,
   "metadata": {},
   "outputs": [],
   "source": [
    "def cabin_1letter (train, test):\n",
    "    \"\"\"Gets the first letter of the cabin, if NaN completes it with '0'. If there is more than one cabin for\n",
    "    the passanger, the first letter from the first cabin will be kept\"\"\"\n",
    "    for i in [train, test]:\n",
    "        i['Cabin_1letter'] = i['Cabin'].apply(lambda x: '0' if pd.isnull(x) else x[0])\n",
    "    return train, test"
   ]
  },
  {
   "cell_type": "code",
   "execution_count": 24,
   "metadata": {},
   "outputs": [],
   "source": [
    "def cabin_number (train, test):\n",
    "    \"\"\"Gets the cabin number with intervals. NaN values will be set to an special interval (-0.1 , 0.1]\"\"\"\n",
    "    for i in [train, test]:\n",
    "        i['Cabin_number'] = i['Cabin'].apply(lambda x: 0 if pd.isnull(x) else x.split(' ')[-1][1:])\n",
    "        i['Cabin_number'] = i['Cabin_number'].apply(lambda x: 0 if x =='' else x)\n",
    "        i['Cabin_number'] = i['Cabin_number'].apply(lambda x: int(x))\n",
    "        #Making intervals for the cabins with numbers\n",
    "        #Specific interval is created manually to have an specific interval for the NaN (0) values (-0.1,0.1)\n",
    "        aux_bins = pd.IntervalIndex.from_tuples([(-0.1,0.1),(0.99, 29), (29, 66), (66, 148)])\n",
    "        i['Cabin_number'] = pd.cut(i['Cabin_number'],bins = aux_bins)\n",
    "    return train, test"
   ]
  },
  {
   "cell_type": "code",
   "execution_count": 25,
   "metadata": {},
   "outputs": [],
   "source": [
    "def cabin_prep (train, test):\n",
    "    \"\"\"Gets the Cabin First letter and cabin number using cabin_1letter and cabin_number respectively and\n",
    "    drops the Cabin column\"\"\"\n",
    "    train, test = cabin_1letter (train, test)\n",
    "    train, test = cabin_number (train, test)\n",
    "    del train['Cabin']\n",
    "    del test['Cabin']\n",
    "    return train, test"
   ]
  },
  {
   "cell_type": "markdown",
   "metadata": {},
   "source": [
    "### Embarked"
   ]
  },
  {
   "cell_type": "code",
   "execution_count": 26,
   "metadata": {},
   "outputs": [
    {
     "data": {
      "text/plain": [
       "Embarked\n",
       "C    0.553571\n",
       "Q    0.389610\n",
       "S    0.336957\n",
       "Name: Survived, dtype: float64"
      ]
     },
     "execution_count": 26,
     "metadata": {},
     "output_type": "execute_result"
    }
   ],
   "source": [
    "X_full['Survived'].groupby(X_full['Embarked']).mean()"
   ]
  },
  {
   "cell_type": "code",
   "execution_count": 27,
   "metadata": {},
   "outputs": [
    {
     "name": "stdout",
     "output_type": "stream",
     "text": [
      "Embarked missing values in train data:  2\n",
      "Embarked missing values in train data:  0\n"
     ]
    }
   ],
   "source": [
    "print(\"Embarked missing values in train data: \", X_full['Embarked'].isnull().sum())\n",
    "print(\"Embarked missing values in train data: \", X_test_full['Embarked'].isnull().sum())"
   ]
  },
  {
   "cell_type": "markdown",
   "metadata": {},
   "source": [
    "People embarked in Cherbourg (C) had higher survival rates then this feature is a useful predictor.\n",
    "Due to the few missing values (only two), a most frequent imputing method will be used"
   ]
  },
  {
   "cell_type": "code",
   "execution_count": 28,
   "metadata": {},
   "outputs": [],
   "source": [
    "from sklearn.impute import SimpleImputer\n",
    "def embarked_prep (train,test):\n",
    "    Imputer = SimpleImputer(strategy = 'most_frequent')\n",
    "    Imputer.fit(train[['Embarked']])\n",
    "    for i in [train, test]:\n",
    "        i[['Embarked']] = Imputer.transform(i[['Embarked']])\n",
    "    return train, test\n",
    "        "
   ]
  },
  {
   "cell_type": "markdown",
   "metadata": {},
   "source": [
    "# Encoding\n",
    "\n",
    "Encoding all categorical columns with the One-Hot Encoding method"
   ]
  },
  {
   "cell_type": "code",
   "execution_count": 29,
   "metadata": {},
   "outputs": [],
   "source": [
    "from sklearn.preprocessing import OneHotEncoder\n",
    "\n",
    "def One_Hot_cat (train, test):\n",
    "    \"\"\"One hot encode all the categorical variables and remove the original columns\"\"\"\n",
    "    cat_cols = train.select_dtypes(include=['object','category']).columns\n",
    "    OH_encoder = OneHotEncoder(handle_unknown = 'ignore', sparse = False)\n",
    "    OH_encoder.fit(train[cat_cols])\n",
    "    \n",
    "    # Encoding for train and data\n",
    "    DF_OH_train = pd.DataFrame(OH_encoder.transform(train[cat_cols]))\n",
    "    DF_OH_test = pd.DataFrame(OH_encoder.transform(test[cat_cols]))\n",
    "    \n",
    "    # One-hot encoding removed indexes; putting them back\n",
    "    DF_OH_train.index = train.index\n",
    "    DF_OH_test.index = test.index\n",
    "    \n",
    "    #Adding One-Hot columns names\n",
    "    DF_OH_train.columns = OH_encoder.get_feature_names(cat_cols)\n",
    "    DF_OH_test.columns = OH_encoder.get_feature_names(cat_cols)\n",
    "    \n",
    "    #Removing the blanc spaces in columns name as it causes problems to XGBoost\n",
    "    DF_OH_train.columns = [cname.replace(\" \",\"\") for cname in DF_OH_train.columns]\n",
    "    DF_OH_test.columns = [cname.replace(\" \",\"\") for cname in DF_OH_test.columns]\n",
    "    \n",
    "    DF_OH_train.columns = [cname.replace(\"]\",\"\") for cname in DF_OH_train.columns]\n",
    "    DF_OH_test.columns = [cname.replace(\"]\",\"\") for cname in DF_OH_test.columns]\n",
    "    \n",
    "    # Adding the encoded columns\n",
    "    train = pd.concat([train,DF_OH_train], axis = 1)\n",
    "    test = pd.concat([test,DF_OH_test], axis = 1)\n",
    "    \n",
    "    #Removing the original categorical columns\n",
    "    train.drop(cat_cols, inplace = True, axis = 1)\n",
    "    test.drop(cat_cols, inplace = True, axis = 1)\n",
    " \n",
    "    return train, test\n"
   ]
  },
  {
   "cell_type": "markdown",
   "metadata": {},
   "source": [
    "# Pre-processing \n",
    "\n",
    "Preprocessing the DataFrames"
   ]
  },
  {
   "cell_type": "code",
   "execution_count": 30,
   "metadata": {},
   "outputs": [],
   "source": [
    "X_full, X_test_full = Name_Engineering(X_full, X_test_full)\n",
    "\n",
    "X_full, X_test_full = Age_impute(X_full, X_test_full)\n",
    "\n",
    "X_full, X_test_full = Ticket_engineering(X_full, X_test_full)\n",
    "\n",
    "X_full, X_test_full = Fare_imputing (X_full, X_test_full)\n",
    "\n",
    "X_full, X_test_full = cabin_prep (X_full, X_test_full)\n",
    "\n",
    "X_full, X_test_full = embarked_prep(X_full, X_test_full)\n",
    "\n",
    "X_full, X_test_full  = One_Hot_cat(X_full, X_test_full)\n",
    "\n"
   ]
  },
  {
   "cell_type": "markdown",
   "metadata": {},
   "source": [
    "# Hyperparameter Tuning"
   ]
  },
  {
   "cell_type": "code",
   "execution_count": 31,
   "metadata": {},
   "outputs": [
    {
     "name": "stdout",
     "output_type": "stream",
     "text": [
      "[14:41:53] WARNING: ../src/learner.cc:1115: Starting in XGBoost 1.3.0, the default evaluation metric used with the objective 'binary:logistic' was changed from 'error' to 'logloss'. Explicitly set eval_metric if you'd like to restore the old behavior.\n"
     ]
    }
   ],
   "source": [
    "#XGBClassifier\n",
    "\n",
    "from xgboost import XGBClassifier\n",
    "from sklearn.model_selection import GridSearchCV\n",
    "\n",
    "y = X_full['Survived']\n",
    "X = X_full.drop(['Survived'], inplace = False, axis = 1)\n",
    "\n",
    "My_model = XGBClassifier(use_label_encoder=False)\n",
    "\n",
    "param_grid = { \"learning_rate\" : [0.01, 0.05, 0.1, 0.15], \"n_estimators\" : [1, 5, 7, 10 , 25 , 50]}\n",
    "\n",
    "GS = GridSearchCV(estimator = My_model, param_grid = param_grid, scoring = 'accuracy', cv = 5, n_jobs = -1)\n",
    "\n",
    "results = GS.fit(X, y)"
   ]
  },
  {
   "cell_type": "code",
   "execution_count": 32,
   "metadata": {},
   "outputs": [
    {
     "name": "stdout",
     "output_type": "stream",
     "text": [
      "Best score:  0.8338899001945892\n",
      "Best Parameters:  {'learning_rate': 0.05, 'n_estimators': 25}\n"
     ]
    }
   ],
   "source": [
    "print(\"Best score: \" , results.best_score_)\n",
    "print(\"Best Parameters: \",results.best_params_)\n"
   ]
  },
  {
   "cell_type": "markdown",
   "metadata": {},
   "source": [
    "#Best result so far:\n",
    "\n",
    "My_model = XGBClassifier(n_estimators=25, learning_rate=0.05)\n",
    "0.8338899001945892"
   ]
  },
  {
   "cell_type": "code",
   "execution_count": 33,
   "metadata": {},
   "outputs": [],
   "source": [
    "#RandomForestClassifier\n",
    "from sklearn.ensemble import RandomForestClassifier\n",
    "from sklearn.model_selection import GridSearchCV\n",
    "\n",
    "y = X_full['Survived']\n",
    "X = X_full.drop(['Survived'], inplace = False, axis = 1)\n",
    "\n",
    "My_model = RandomForestClassifier(random_state = 0)\n",
    "\n",
    "param_grid = param_grid = { \"criterion\" : [\"gini\", \"entropy\"], \"min_samples_leaf\" : [1, 5, 10], \n",
    "                           \"min_samples_split\" : [2, 4, 10, 12, 16], \"n_estimators\": [50, 100, 400, 700, 1000]}\n",
    "\n",
    "\n",
    "GS = GridSearchCV(estimator = My_model, param_grid = param_grid, scoring = 'accuracy', cv = 5, n_jobs = -1)\n",
    "\n",
    "results = GS.fit(X, y)\n",
    "\n",
    "\n",
    "\n"
   ]
  },
  {
   "cell_type": "code",
   "execution_count": 34,
   "metadata": {},
   "outputs": [
    {
     "name": "stdout",
     "output_type": "stream",
     "text": [
      "Best score:  0.8384219446362439\n",
      "Best Parameters:  {'criterion': 'gini', 'min_samples_leaf': 1, 'min_samples_split': 4, 'n_estimators': 50}\n"
     ]
    }
   ],
   "source": [
    "print(\"Best score: \" , results.best_score_)\n",
    "print(\"Best Parameters: \",results.best_params_)\n"
   ]
  },
  {
   "cell_type": "markdown",
   "metadata": {},
   "source": [
    "# Getting predictions"
   ]
  },
  {
   "cell_type": "code",
   "execution_count": 40,
   "metadata": {},
   "outputs": [],
   "source": [
    "#fit model and get predictions\n",
    "\n",
    "My_model = RandomForestClassifier(criterion = 'gini', min_samples_leaf= 1, min_samples_split= 4, n_estimators= 100)\n",
    "\n",
    "My_model.fit(X, y )\n",
    "\n",
    "#Get prediction for test\n",
    "Test_prediction = My_model.predict(X_test_full)\n",
    "\n",
    "#Prepare data to be saved in a CSV\n",
    "\n",
    "Test_prediction = pd.DataFrame({'Survived':Test_prediction}, index = X_test_full.index)\n",
    "\n",
    "#save data to CSV \n",
    "Test_prediction.to_csv (\"/home/manu/Documents/Data Science/Projects/Titanic/result_featureEng.csv\")\n",
    "\n"
   ]
  },
  {
   "cell_type": "code",
   "execution_count": null,
   "metadata": {},
   "outputs": [],
   "source": []
  }
 ],
 "metadata": {
  "kernelspec": {
   "display_name": "Python 3",
   "language": "python",
   "name": "python3"
  },
  "language_info": {
   "codemirror_mode": {
    "name": "ipython",
    "version": 3
   },
   "file_extension": ".py",
   "mimetype": "text/x-python",
   "name": "python",
   "nbconvert_exporter": "python",
   "pygments_lexer": "ipython3",
   "version": "3.8.5"
  }
 },
 "nbformat": 4,
 "nbformat_minor": 4
}
