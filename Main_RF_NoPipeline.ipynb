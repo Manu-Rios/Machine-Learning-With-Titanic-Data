{
 "cells": [
  {
   "cell_type": "code",
   "execution_count": 69,
   "metadata": {},
   "outputs": [],
   "source": [
    "import pandas as pd\n",
    "\n",
    "#Load files\n",
    "X_full = pd.read_csv(\"/home/manu/Documents/Data Science/Projects/Titanic/train.csv\", index_col = \"PassengerId\")\n",
    "X_test_full = pd.read_csv(\"/home/manu/Documents/Data Science/Projects/Titanic/test.csv\", index_col = \"PassengerId\")"
   ]
  },
  {
   "cell_type": "code",
   "execution_count": 2,
   "metadata": {},
   "outputs": [],
   "source": [
    "#Explore data\n",
    "\n",
    "#X_full.head()\n",
    "#X_full.shape\n",
    "#X_full.isnull().sum()\n",
    "#X_full.describe\n",
    "#list ((X_full.dtypes == 'object')[X_full.dtypes == 'object'].index)\n",
    "#X_full['Sex'].unique()\n",
    "#set(X_full['Sex'])\n",
    "#X_full['Sex'].nunique()\n",
    "#X_full.info()\n",
    "#X_full['Survived'].value_counts(normalize=True)\n",
    "#X_full['Survived'].groupby(X_full['Pclass']).mean()\n",
    "#pd.qcut(X_full['Fare'], 3).value_counts()\n",
    "#X_full['Survived'].groupby(pd.qcut(X_full['Fare'], 3)).mean()\n",
    "#X_full['Survived'].groupby(X_full['Sex']).sum()\n",
    "#pd.crosstab(pd.qcut(X_full['Fare'], 5), columns=X_full['Pclass'])\n",
    "#X_full['Survived'].corr(X_full['Fare'])"
   ]
  },
  {
   "cell_type": "code",
   "execution_count": 72,
   "metadata": {},
   "outputs": [],
   "source": [
    "from sklearn.model_selection import train_test_split\n",
    "\n",
    "#Remove rows with missing target\n",
    "X_full.dropna(axis=0, subset = ['Survived'], inplace=True)\n",
    "\n",
    "#Separate target from predictors\n",
    "y = X_full.Survived\n",
    "X_full.drop(['Survived'], axis=1, inplace = True)\n"
   ]
  },
  {
   "cell_type": "code",
   "execution_count": 73,
   "metadata": {},
   "outputs": [],
   "source": [
    "#Select object (Only low cardinality ones) and numerical columns\n",
    "\n",
    "object_cols = [col for col in X_full.columns if (X_full[col].dtype == 'object') and X_full[col].nunique() < 10]\n",
    "\n",
    "num_cols = [col for col in X_full.columns if X_full[col].dtype in ['int','float64']]\n",
    "\n",
    "my_cols = object_cols + num_cols\n",
    "\n",
    "X = X_full[my_cols].copy()\n",
    "X_test = X_test_full [my_cols].copy()"
   ]
  },
  {
   "cell_type": "code",
   "execution_count": 5,
   "metadata": {},
   "outputs": [],
   "source": [
    "from sklearn.impute import SimpleImputer\n",
    "from sklearn.preprocessing import LabelEncoder\n",
    "\n",
    "#Impute categorical missing values with most frequent value and numerical with median\n",
    "my_categ_imputer = SimpleImputer(strategy = 'most_frequent')\n",
    "my_num_imputer = SimpleImputer (strategy = 'median')\n",
    "\n",
    "X[object_cols] = my_categ_imputer.fit_transform(X[object_cols])\n",
    "X_test[object_cols] = my_categ_imputer.fit_transform(X_test[object_cols])\n",
    "X[num_cols] = my_num_imputer.fit_transform(X[num_cols])\n",
    "X_test[num_cols] = my_num_imputer.fit_transform (X_test[num_cols])\n",
    "\n",
    "#Label encode categorical variables\n",
    "label_encoder = LabelEncoder()\n",
    "for col in object_cols:\n",
    "    X[col] = label_encoder.fit_transform (X[col])\n",
    "    X_test[col] = label_encoder.transform (X_test[col])"
   ]
  },
  {
   "cell_type": "code",
   "execution_count": 14,
   "metadata": {},
   "outputs": [],
   "source": [
    "from sklearn.ensemble import RandomForestClassifier\n",
    "\n",
    "#Train model\n",
    "#My_model = RandomForestRegressor(random_state=1)\n",
    "#My_model = RandomForestRegressor(n_estimators=50, random_state=0)\n",
    "My_model = RandomForestClassifier(n_estimators=3, random_state=0)\n",
    "#My_model = RandomForestRegressor(n_estimators=100, criterion='mae', random_state=0)\n",
    "#My_model = RandomForestRegressor(n_estimators=200, min_samples_split=20, random_state=0)\n",
    "#My_model = RandomForestRegressor(n_estimators=100, max_depth=7, random_state=0)\n",
    "\n",
    "#My_model.fit(X_train, y_train)\n",
    "\n"
   ]
  },
  {
   "cell_type": "code",
   "execution_count": 15,
   "metadata": {},
   "outputs": [
    {
     "name": "stdout",
     "output_type": "stream",
     "text": [
      "Average accuracy score (across experiments):  0.793528340970435\n"
     ]
    }
   ],
   "source": [
    "from sklearn.model_selection import cross_val_score\n",
    "\n",
    "#Messure model performance\n",
    "scores = cross_val_score(My_model,X,y,cv=5, scoring = 'accuracy')\n",
    "\n",
    "print (\"Average accuracy score (across experiments): \",scores.mean())\n"
   ]
  },
  {
   "cell_type": "code",
   "execution_count": 16,
   "metadata": {},
   "outputs": [],
   "source": [
    "#Best result so far:\n",
    "#My_model = RandomForestRegressor(random_state=1)\n",
    "#-> 81%\n"
   ]
  },
  {
   "cell_type": "code",
   "execution_count": 17,
   "metadata": {},
   "outputs": [],
   "source": [
    "#fit model and get predictions\n",
    "\n",
    "My_model.fit(X, y)\n",
    "\n",
    "#Get prediction for test\n",
    "Test_prediction = My_model.predict(X_test)\n",
    "\n",
    "#Prepare data to be saved in a CSV\n",
    "\n",
    "Test_prediction = pd.DataFrame({'Survived':Test_prediction}, index = X_test.index)\n",
    "\n",
    "#save data to CSV \n",
    "Test_prediction.to_csv (\"/home/manu/Documents/Data Science/Projects/Titanic/result_RF_NoPipeline.csv\")\n",
    "\n"
   ]
  },
  {
   "cell_type": "code",
   "execution_count": null,
   "metadata": {},
   "outputs": [],
   "source": []
  }
 ],
 "metadata": {
  "kernelspec": {
   "display_name": "Python 3",
   "language": "python",
   "name": "python3"
  },
  "language_info": {
   "codemirror_mode": {
    "name": "ipython",
    "version": 3
   },
   "file_extension": ".py",
   "mimetype": "text/x-python",
   "name": "python",
   "nbconvert_exporter": "python",
   "pygments_lexer": "ipython3",
   "version": "3.8.5"
  }
 },
 "nbformat": 4,
 "nbformat_minor": 4
}
